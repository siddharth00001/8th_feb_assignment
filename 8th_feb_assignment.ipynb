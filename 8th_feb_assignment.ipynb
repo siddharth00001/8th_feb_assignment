{
 "cells": [
  {
   "cell_type": "markdown",
   "id": "c53d219e-72c9-4189-a533-64548e1ca638",
   "metadata": {},
   "source": [
    "## Q1"
   ]
  },
  {
   "cell_type": "markdown",
   "id": "a0994913-6f02-4010-891e-d51795f31b31",
   "metadata": {},
   "source": [
    "Abstraction is the process of hiding the implementation of function property from user and we expose only the functionalities for user. In python we use ABC from abc for the implementation of abstraction it is a module that needed to imported to create abstract classes and methods."
   ]
  },
  {
   "cell_type": "code",
   "execution_count": 13,
   "id": "b4fd8a65-28e2-4f51-8549-f6ea71771cb1",
   "metadata": {},
   "outputs": [],
   "source": [
    "from abc import ABC, abstractmethod\n",
    "\n",
    "class animal(ABC):\n",
    "    def print(self,user):\n",
    "        print(f\"Hello {user}\")\n",
    "    @abstractmethod\n",
    "    def dosomething(self):\n",
    "        print('Hello World')\n",
    "class newWorld(animal):\n",
    "    def dosomething(self):\n",
    "        print('Hello New World')"
   ]
  },
  {
   "cell_type": "code",
   "execution_count": 14,
   "id": "0c4c8878-dbd3-4590-b39d-19d2902278c9",
   "metadata": {},
   "outputs": [],
   "source": [
    "wrld = newWorld()"
   ]
  },
  {
   "cell_type": "code",
   "execution_count": 15,
   "id": "651d98f5-f054-40a5-b8b7-a6a8a81f0328",
   "metadata": {},
   "outputs": [
    {
     "name": "stdout",
     "output_type": "stream",
     "text": [
      "Hello New World\n"
     ]
    }
   ],
   "source": [
    "wrld.dosomething()"
   ]
  },
  {
   "cell_type": "code",
   "execution_count": 16,
   "id": "52b10059-db8d-4250-aec5-932e636a53f1",
   "metadata": {},
   "outputs": [
    {
     "name": "stdout",
     "output_type": "stream",
     "text": [
      "Hello dis700\n"
     ]
    }
   ],
   "source": [
    "wrld.print(\"dis700\")"
   ]
  },
  {
   "cell_type": "code",
   "execution_count": 19,
   "id": "b5d4aa1c-1bb2-4af9-9494-c22cd11d3ef9",
   "metadata": {},
   "outputs": [
    {
     "data": {
      "text/plain": [
       "True"
      ]
     },
     "execution_count": 19,
     "metadata": {},
     "output_type": "execute_result"
    }
   ],
   "source": [
    "isinstance(wrld,animal)"
   ]
  },
  {
   "cell_type": "markdown",
   "id": "82cfcd74-80f2-4f20-9495-820970098d66",
   "metadata": {},
   "source": [
    "## Q2"
   ]
  },
  {
   "cell_type": "markdown",
   "id": "07d0afb8-b1b1-459a-b407-d505e11a4924",
   "metadata": {},
   "source": [
    "Abstraction is the process of hiding the complex implementation of a program and only exposing the functionalities of the program to user. Encapsulation is technique of binding all the methods and data under a single unit that is class it also hides the implememntation and provides the functionalities of it to user."
   ]
  },
  {
   "cell_type": "code",
   "execution_count": 26,
   "id": "40886534-8b43-40fd-8252-d44933c9952d",
   "metadata": {},
   "outputs": [],
   "source": [
    "## Encapsulation\n",
    "class new:\n",
    "    \n",
    "    def __init__(self,data1,data2):\n",
    "        self.__data1 = data1\n",
    "        self.__data2 = data2\n",
    "        \n",
    "    def retData(self):\n",
    "        return self.__data1,self.__data2\n",
    "    \n",
    "    def updateData(self,data1new,data2new):\n",
    "        self.__data1 = data1new\n",
    "        self.__data2 = data2new"
   ]
  },
  {
   "cell_type": "code",
   "execution_count": 27,
   "id": "eda09543-f8a0-4d98-87c6-5d2fa5d57ac9",
   "metadata": {},
   "outputs": [],
   "source": [
    "dt = new(123,222)"
   ]
  },
  {
   "cell_type": "code",
   "execution_count": 28,
   "id": "c3ba098d-d970-46d6-9982-b67197f12696",
   "metadata": {},
   "outputs": [
    {
     "data": {
      "text/plain": [
       "(123, 222)"
      ]
     },
     "execution_count": 28,
     "metadata": {},
     "output_type": "execute_result"
    }
   ],
   "source": [
    "dt.retData()"
   ]
  },
  {
   "cell_type": "code",
   "execution_count": 29,
   "id": "f5b15be4-5297-4772-badf-4e4c4636497e",
   "metadata": {},
   "outputs": [],
   "source": [
    "dt.updateData(220,221)"
   ]
  },
  {
   "cell_type": "code",
   "execution_count": 30,
   "id": "bed5e3eb-15c9-4712-86f5-a9910a433e3c",
   "metadata": {},
   "outputs": [
    {
     "data": {
      "text/plain": [
       "(220, 221)"
      ]
     },
     "execution_count": 30,
     "metadata": {},
     "output_type": "execute_result"
    }
   ],
   "source": [
    "dt.retData()"
   ]
  },
  {
   "cell_type": "code",
   "execution_count": 34,
   "id": "62ef9022-1593-4a5f-bc10-1a65fa01bc2d",
   "metadata": {},
   "outputs": [],
   "source": [
    "## Abstraction\n",
    "from abc import ABC,abstractmethod\n",
    "class new1(ABC):\n",
    "    def print(self):\n",
    "        print(\"This is inside abstract class method\")\n",
    "    @abstractmethod\n",
    "    def task(self):\n",
    "        print(\"This is also abstract class method inside abstractmethod\")\n",
    "class new2(new1):\n",
    "    \n",
    "    def task(self):\n",
    "        super().print()\n",
    "        print(\"This is inside new2 class\")"
   ]
  },
  {
   "cell_type": "code",
   "execution_count": 35,
   "id": "88795a3f-dc5a-44c8-91e1-83b0710440e1",
   "metadata": {},
   "outputs": [],
   "source": [
    "a = new2()"
   ]
  },
  {
   "cell_type": "code",
   "execution_count": 36,
   "id": "205e433a-df30-4f6e-b03f-3bcd9fec2e22",
   "metadata": {},
   "outputs": [
    {
     "name": "stdout",
     "output_type": "stream",
     "text": [
      "This is inside abstract class method\n",
      "This is inside new2 class\n"
     ]
    }
   ],
   "source": [
    "a.task()"
   ]
  },
  {
   "cell_type": "markdown",
   "id": "52135851-db68-484d-b37d-c1a2adbdd941",
   "metadata": {},
   "source": [
    "## Q3"
   ]
  },
  {
   "cell_type": "markdown",
   "id": "c545b480-d1b7-4f4c-a204-3c94580dffaa",
   "metadata": {},
   "source": [
    "ABC works by decorating methods of the base class as abstract and then registering concrete classes as implementations of the abstract base. ABC module is imported from abc method. So it is the base class form where we import relevant moduled to declare abstract class and abstract method."
   ]
  },
  {
   "cell_type": "markdown",
   "id": "27127479-677c-4d01-adb0-f034c871b5e8",
   "metadata": {},
   "source": [
    "## Q4"
   ]
  },
  {
   "cell_type": "markdown",
   "id": "5090ed60-2350-4153-a52e-61ad0df60d71",
   "metadata": {},
   "source": [
    "The data abstraction can be acheived by inherting from the base abstract class ABC and abstractmethod which can be imported from abc class. once we declare the class as abstract class and by decorating the method with abstractmethod so that it cannot be directly used for creating and object and this class can be inherited to other class to work on top of it."
   ]
  },
  {
   "cell_type": "markdown",
   "id": "3d919577-0fc2-4012-9b44-990f4443f777",
   "metadata": {},
   "source": [
    "## Q5"
   ]
  },
  {
   "cell_type": "markdown",
   "id": "756a5b85-fb01-4390-8cf5-b4408df3cd9d",
   "metadata": {},
   "source": [
    "We can create the instance of abstract class by inheriting it inside the concrete class we create which in turn can be passed into other class and then we can use that class to create a instance."
   ]
  },
  {
   "cell_type": "code",
   "execution_count": 37,
   "id": "d553f8e2-beeb-4e21-8b1b-a7e89075ffbe",
   "metadata": {},
   "outputs": [],
   "source": [
    "from abc import ABC,abstractmethod\n",
    "class new1(ABC):\n",
    "    def print(self):\n",
    "        print(\"This is inside abstract class method\")\n",
    "    @abstractmethod\n",
    "    def task(self):\n",
    "        print(\"This is also abstract class method inside abstractmethod\")\n",
    "class new2(new1):\n",
    "    \n",
    "    def task(self):\n",
    "        super().print()\n",
    "        print(\"This is inside new2 class\")"
   ]
  },
  {
   "cell_type": "code",
   "execution_count": 39,
   "id": "6465000d-fc6e-4857-a47b-30518b12fa39",
   "metadata": {},
   "outputs": [
    {
     "ename": "TypeError",
     "evalue": "Can't instantiate abstract class new1 with abstract method task",
     "output_type": "error",
     "traceback": [
      "\u001b[0;31m---------------------------------------------------------------------------\u001b[0m",
      "\u001b[0;31mTypeError\u001b[0m                                 Traceback (most recent call last)",
      "Cell \u001b[0;32mIn[39], line 2\u001b[0m\n\u001b[1;32m      1\u001b[0m \u001b[38;5;66;03m## here we cannot directly create the instance of abstract class\u001b[39;00m\n\u001b[0;32m----> 2\u001b[0m n \u001b[38;5;241m=\u001b[39m \u001b[43mnew1\u001b[49m\u001b[43m(\u001b[49m\u001b[43m)\u001b[49m\n",
      "\u001b[0;31mTypeError\u001b[0m: Can't instantiate abstract class new1 with abstract method task"
     ]
    }
   ],
   "source": [
    "## here we cannot directly create the instance of abstract class\n",
    "n = new1()"
   ]
  },
  {
   "cell_type": "code",
   "execution_count": 40,
   "id": "f71e5322-ef00-48cb-8187-e6bebdd2c5a9",
   "metadata": {},
   "outputs": [],
   "source": [
    "## but we can create the instance of new2 as it is inheriting from new1 abstract base class\n",
    "a = new2()"
   ]
  },
  {
   "cell_type": "code",
   "execution_count": 43,
   "id": "62c398bd-1249-410b-ae2e-6fba7c9a9215",
   "metadata": {},
   "outputs": [
    {
     "name": "stdout",
     "output_type": "stream",
     "text": [
      "This is inside abstract class method\n",
      "This is inside new2 class\n"
     ]
    }
   ],
   "source": [
    "## and we can use the object of this class to acheive functionality.\n",
    "a.task()"
   ]
  },
  {
   "cell_type": "code",
   "execution_count": null,
   "id": "de7f9ca5-800d-4322-bd1d-f5d7e9000151",
   "metadata": {},
   "outputs": [],
   "source": []
  }
 ],
 "metadata": {
  "kernelspec": {
   "display_name": "Python 3 (ipykernel)",
   "language": "python",
   "name": "python3"
  },
  "language_info": {
   "codemirror_mode": {
    "name": "ipython",
    "version": 3
   },
   "file_extension": ".py",
   "mimetype": "text/x-python",
   "name": "python",
   "nbconvert_exporter": "python",
   "pygments_lexer": "ipython3",
   "version": "3.10.8"
  }
 },
 "nbformat": 4,
 "nbformat_minor": 5
}
